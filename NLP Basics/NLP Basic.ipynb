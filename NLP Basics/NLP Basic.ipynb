{
  "nbformat": 4,
  "nbformat_minor": 0,
  "metadata": {
    "colab": {
      "provenance": []
    },
    "kernelspec": {
      "name": "python3",
      "display_name": "Python 3"
    },
    "language_info": {
      "name": "python"
    }
  },
  "cells": [
    {
      "cell_type": "code",
      "execution_count": null,
      "metadata": {
        "id": "g-jmLmLBwJWe"
      },
      "outputs": [],
      "source": [
        "# import nltk library\n",
        "import nltk"
      ]
    },
    {
      "cell_type": "code",
      "source": [
        "#text preprocessing tokenization we have to download punkt from nltk\n",
        "nltk.download('punkt')\n"
      ],
      "metadata": {
        "colab": {
          "base_uri": "https://localhost:8080/"
        },
        "id": "aachPmGw6Ia1",
        "outputId": "de8235ff-eb79-48d4-dbad-5efaa48cc398"
      },
      "execution_count": null,
      "outputs": [
        {
          "output_type": "stream",
          "name": "stderr",
          "text": [
            "[nltk_data] Downloading package punkt to /root/nltk_data...\n",
            "[nltk_data]   Unzipping tokenizers/punkt.zip.\n"
          ]
        },
        {
          "output_type": "execute_result",
          "data": {
            "text/plain": [
              "True"
            ]
          },
          "metadata": {},
          "execution_count": 3
        }
      ]
    },
    {
      "cell_type": "code",
      "source": [
        "# Tokenization main aim is dividing the paragraph into either sentences or words\n"
      ],
      "metadata": {
        "id": "u_N8QT1-6UJ5"
      },
      "execution_count": null,
      "outputs": []
    },
    {
      "cell_type": "code",
      "source": [
        "from nltk.tokenize import word_tokenize, sent_tokenize"
      ],
      "metadata": {
        "id": "u03v5rKy6eOz"
      },
      "execution_count": null,
      "outputs": []
    },
    {
      "cell_type": "code",
      "source": [
        "para=\"The economy of India has transitioned from a mixed planned economy to a mixed middle-income developing social market economy and largest South Asian economy with notable public sector in strategic sectors.[50] It is the world's fifth-largest economy by nominal GDP and the third-largest by purchasing power parity (PPP). According to the International Monetary Fund (IMF), on a per capita income basis, India ranked 139th by GDP (nominal) and 127th by GDP (PPP).[51] From independence in 1947 until 1991, successive governments followed Soviet model and promoted protectionist economic policies, with extensive Sovietization, state intervention, bureaucrat driven enterprises and economic regulation. This is characterised as dirigism, in the form of the Licence Raj.[52][53] The end of the Cold War and an acute balance of payments crisis in 1991 led to the adoption of a broad economic liberalisation in India and indicative planning.[54][55] Since the start of the 21st century, annual average GDP growth has been 6% to 7%.[50] The economy of the Indian subcontinent was the largest in the world for most of recorded history up until the onset of colonialism in early 19th century.[56][57][58] India accounts for 7.2% of the global economy in 2022 in PPP terms, and around 3.4% in nominal terms in 2022.[59][60]\""
      ],
      "metadata": {
        "id": "zb2aVfAu62ug"
      },
      "execution_count": null,
      "outputs": []
    },
    {
      "cell_type": "code",
      "source": [
        "#converting entire paragraph to list of sentences\n",
        "nltk.sent_tokenize(para)"
      ],
      "metadata": {
        "colab": {
          "base_uri": "https://localhost:8080/"
        },
        "id": "eG4VyKz_7N15",
        "outputId": "da6459b4-1e42-4b61-bb4a-f6d9769cd21e"
      },
      "execution_count": null,
      "outputs": [
        {
          "output_type": "execute_result",
          "data": {
            "text/plain": [
              "['The economy of India has transitioned from a mixed planned economy to a mixed middle-income developing social market economy and largest South Asian economy with notable public sector in strategic sectors.',\n",
              " \"[50] It is the world's fifth-largest economy by nominal GDP and the third-largest by purchasing power parity (PPP).\",\n",
              " 'According to the International Monetary Fund (IMF), on a per capita income basis, India ranked 139th by GDP (nominal) and 127th by GDP (PPP).',\n",
              " '[51] From independence in 1947 until 1991, successive governments followed Soviet model and promoted protectionist economic policies, with extensive Sovietization, state intervention, bureaucrat driven enterprises and economic regulation.',\n",
              " 'This is characterised as dirigism, in the form of the Licence Raj.',\n",
              " '[52][53] The end of the Cold War and an acute balance of payments crisis in 1991 led to the adoption of a broad economic liberalisation in India and indicative planning.',\n",
              " '[54][55] Since the start of the 21st century, annual average GDP growth has been 6% to 7%.',\n",
              " '[50] The economy of the Indian subcontinent was the largest in the world for most of recorded history up until the onset of colonialism in early 19th century.',\n",
              " '[56][57][58] India accounts for 7.2% of the global economy in 2022 in PPP terms, and around 3.4% in nominal terms in 2022.',\n",
              " '[59][60]']"
            ]
          },
          "metadata": {},
          "execution_count": 6
        }
      ]
    },
    {
      "cell_type": "code",
      "source": [
        "#converting entire sentences into the words\n",
        "sent=\"It is the world's fifth-largest economy by nominal GDP and the third-largest by purchasing power parity (PPP)\""
      ],
      "metadata": {
        "id": "SjYSEslE7mkp"
      },
      "execution_count": null,
      "outputs": []
    },
    {
      "cell_type": "code",
      "source": [
        "nltk.word_tokenize(sent)"
      ],
      "metadata": {
        "colab": {
          "base_uri": "https://localhost:8080/"
        },
        "id": "VnXYAbXH7ybj",
        "outputId": "9501379a-ac22-4e13-9cb8-df41b139ac73"
      },
      "execution_count": null,
      "outputs": [
        {
          "output_type": "execute_result",
          "data": {
            "text/plain": [
              "['It',\n",
              " 'is',\n",
              " 'the',\n",
              " 'world',\n",
              " \"'s\",\n",
              " 'fifth-largest',\n",
              " 'economy',\n",
              " 'by',\n",
              " 'nominal',\n",
              " 'GDP',\n",
              " 'and',\n",
              " 'the',\n",
              " 'third-largest',\n",
              " 'by',\n",
              " 'purchasing',\n",
              " 'power',\n",
              " 'parity',\n",
              " '(',\n",
              " 'PPP',\n",
              " ')']"
            ]
          },
          "metadata": {},
          "execution_count": 9
        }
      ]
    },
    {
      "cell_type": "code",
      "source": [
        "#spacy\n",
        "import spacy"
      ],
      "metadata": {
        "id": "xPPJtpxz78ST"
      },
      "execution_count": null,
      "outputs": []
    },
    {
      "cell_type": "code",
      "source": [
        "nlp=spacy.load('en_core_web_sm')"
      ],
      "metadata": {
        "id": "u5RetZJn8EQR"
      },
      "execution_count": null,
      "outputs": []
    },
    {
      "cell_type": "code",
      "source": [
        "doc=nlp(para)"
      ],
      "metadata": {
        "id": "4qXdi2w38Xsa"
      },
      "execution_count": null,
      "outputs": []
    },
    {
      "cell_type": "code",
      "source": [
        "doc"
      ],
      "metadata": {
        "colab": {
          "base_uri": "https://localhost:8080/"
        },
        "id": "PXK2KYyR8gVu",
        "outputId": "754fd4ae-95b6-471d-9a38-fcc3793224d1"
      },
      "execution_count": null,
      "outputs": [
        {
          "output_type": "execute_result",
          "data": {
            "text/plain": [
              "The economy of India has transitioned from a mixed planned economy to a mixed middle-income developing social market economy and largest South Asian economy with notable public sector in strategic sectors.[50] It is the world's fifth-largest economy by nominal GDP and the third-largest by purchasing power parity (PPP). According to the International Monetary Fund (IMF), on a per capita income basis, India ranked 139th by GDP (nominal) and 127th by GDP (PPP).[51] From independence in 1947 until 1991, successive governments followed Soviet model and promoted protectionist economic policies, with extensive Sovietization, state intervention, bureaucrat driven enterprises and economic regulation. This is characterised as dirigism, in the form of the Licence Raj.[52][53] The end of the Cold War and an acute balance of payments crisis in 1991 led to the adoption of a broad economic liberalisation in India and indicative planning.[54][55] Since the start of the 21st century, annual average GDP growth has been 6% to 7%.[50] The economy of the Indian subcontinent was the largest in the world for most of recorded history up until the onset of colonialism in early 19th century.[56][57][58] India accounts for 7.2% of the global economy in 2022 in PPP terms, and around 3.4% in nominal terms in 2022.[59][60]"
            ]
          },
          "metadata": {},
          "execution_count": 15
        }
      ]
    },
    {
      "cell_type": "code",
      "source": [
        "sentspacy=[sent.text for sent in doc.sents]"
      ],
      "metadata": {
        "id": "bNbso09r8iN0"
      },
      "execution_count": null,
      "outputs": []
    },
    {
      "cell_type": "code",
      "source": [
        "sentspacy"
      ],
      "metadata": {
        "colab": {
          "base_uri": "https://localhost:8080/"
        },
        "id": "2TN8uXSK8xk6",
        "outputId": "d2d84fe1-bdaf-427f-f8c9-2bdb845b0ae3"
      },
      "execution_count": null,
      "outputs": [
        {
          "output_type": "execute_result",
          "data": {
            "text/plain": [
              "[\"The economy of India has transitioned from a mixed planned economy to a mixed middle-income developing social market economy and largest South Asian economy with notable public sector in strategic sectors.[50] It is the world's fifth-largest economy by nominal GDP and the third-largest by purchasing power parity (PPP).\",\n",
              " 'According to the International Monetary Fund (IMF), on a per capita income basis, India ranked 139th by GDP (nominal) and 127th by GDP (PPP).[51] From independence in 1947 until 1991, successive governments followed Soviet model and promoted protectionist economic policies, with extensive Sovietization, state intervention, bureaucrat driven enterprises and economic regulation.',\n",
              " 'This is characterised as dirigism, in the form of the Licence Raj.[52][53]',\n",
              " 'The end of the Cold War and an acute balance of payments crisis in 1991 led to the adoption of a broad economic liberalisation in India and indicative planning.[54][55]',\n",
              " 'Since the start of the 21st century, annual average GDP growth has been 6% to 7%.[50]',\n",
              " 'The economy of the Indian subcontinent was the largest in the world for most of recorded history up until the onset of colonialism in early 19th century.[56][57][58]',\n",
              " 'India accounts for 7.2% of the global economy in 2022 in PPP terms, and around 3.4% in nominal terms in 2022.[59][60]']"
            ]
          },
          "metadata": {},
          "execution_count": 18
        }
      ]
    },
    {
      "cell_type": "code",
      "source": [
        "words=[token.text for token in doc]"
      ],
      "metadata": {
        "id": "p7JytgyD87Z4"
      },
      "execution_count": null,
      "outputs": []
    },
    {
      "cell_type": "code",
      "source": [
        "words"
      ],
      "metadata": {
        "colab": {
          "base_uri": "https://localhost:8080/"
        },
        "id": "vD--VLFY9CdD",
        "outputId": "3a85fbe9-0e11-4385-f1c9-a387080df0b9"
      },
      "execution_count": null,
      "outputs": [
        {
          "output_type": "execute_result",
          "data": {
            "text/plain": [
              "['The',\n",
              " 'economy',\n",
              " 'of',\n",
              " 'India',\n",
              " 'has',\n",
              " 'transitioned',\n",
              " 'from',\n",
              " 'a',\n",
              " 'mixed',\n",
              " 'planned',\n",
              " 'economy',\n",
              " 'to',\n",
              " 'a',\n",
              " 'mixed',\n",
              " 'middle',\n",
              " '-',\n",
              " 'income',\n",
              " 'developing',\n",
              " 'social',\n",
              " 'market',\n",
              " 'economy',\n",
              " 'and',\n",
              " 'largest',\n",
              " 'South',\n",
              " 'Asian',\n",
              " 'economy',\n",
              " 'with',\n",
              " 'notable',\n",
              " 'public',\n",
              " 'sector',\n",
              " 'in',\n",
              " 'strategic',\n",
              " 'sectors.[50',\n",
              " ']',\n",
              " 'It',\n",
              " 'is',\n",
              " 'the',\n",
              " 'world',\n",
              " \"'s\",\n",
              " 'fifth',\n",
              " '-',\n",
              " 'largest',\n",
              " 'economy',\n",
              " 'by',\n",
              " 'nominal',\n",
              " 'GDP',\n",
              " 'and',\n",
              " 'the',\n",
              " 'third',\n",
              " '-',\n",
              " 'largest',\n",
              " 'by',\n",
              " 'purchasing',\n",
              " 'power',\n",
              " 'parity',\n",
              " '(',\n",
              " 'PPP',\n",
              " ')',\n",
              " '.',\n",
              " 'According',\n",
              " 'to',\n",
              " 'the',\n",
              " 'International',\n",
              " 'Monetary',\n",
              " 'Fund',\n",
              " '(',\n",
              " 'IMF',\n",
              " ')',\n",
              " ',',\n",
              " 'on',\n",
              " 'a',\n",
              " 'per',\n",
              " 'capita',\n",
              " 'income',\n",
              " 'basis',\n",
              " ',',\n",
              " 'India',\n",
              " 'ranked',\n",
              " '139th',\n",
              " 'by',\n",
              " 'GDP',\n",
              " '(',\n",
              " 'nominal',\n",
              " ')',\n",
              " 'and',\n",
              " '127th',\n",
              " 'by',\n",
              " 'GDP',\n",
              " '(',\n",
              " 'PPP).[51',\n",
              " ']',\n",
              " 'From',\n",
              " 'independence',\n",
              " 'in',\n",
              " '1947',\n",
              " 'until',\n",
              " '1991',\n",
              " ',',\n",
              " 'successive',\n",
              " 'governments',\n",
              " 'followed',\n",
              " 'Soviet',\n",
              " 'model',\n",
              " 'and',\n",
              " 'promoted',\n",
              " 'protectionist',\n",
              " 'economic',\n",
              " 'policies',\n",
              " ',',\n",
              " 'with',\n",
              " 'extensive',\n",
              " 'Sovietization',\n",
              " ',',\n",
              " 'state',\n",
              " 'intervention',\n",
              " ',',\n",
              " 'bureaucrat',\n",
              " 'driven',\n",
              " 'enterprises',\n",
              " 'and',\n",
              " 'economic',\n",
              " 'regulation',\n",
              " '.',\n",
              " 'This',\n",
              " 'is',\n",
              " 'characterised',\n",
              " 'as',\n",
              " 'dirigism',\n",
              " ',',\n",
              " 'in',\n",
              " 'the',\n",
              " 'form',\n",
              " 'of',\n",
              " 'the',\n",
              " 'Licence',\n",
              " 'Raj.[52][53',\n",
              " ']',\n",
              " 'The',\n",
              " 'end',\n",
              " 'of',\n",
              " 'the',\n",
              " 'Cold',\n",
              " 'War',\n",
              " 'and',\n",
              " 'an',\n",
              " 'acute',\n",
              " 'balance',\n",
              " 'of',\n",
              " 'payments',\n",
              " 'crisis',\n",
              " 'in',\n",
              " '1991',\n",
              " 'led',\n",
              " 'to',\n",
              " 'the',\n",
              " 'adoption',\n",
              " 'of',\n",
              " 'a',\n",
              " 'broad',\n",
              " 'economic',\n",
              " 'liberalisation',\n",
              " 'in',\n",
              " 'India',\n",
              " 'and',\n",
              " 'indicative',\n",
              " 'planning.[54][55',\n",
              " ']',\n",
              " 'Since',\n",
              " 'the',\n",
              " 'start',\n",
              " 'of',\n",
              " 'the',\n",
              " '21st',\n",
              " 'century',\n",
              " ',',\n",
              " 'annual',\n",
              " 'average',\n",
              " 'GDP',\n",
              " 'growth',\n",
              " 'has',\n",
              " 'been',\n",
              " '6',\n",
              " '%',\n",
              " 'to',\n",
              " '7%.[50',\n",
              " ']',\n",
              " 'The',\n",
              " 'economy',\n",
              " 'of',\n",
              " 'the',\n",
              " 'Indian',\n",
              " 'subcontinent',\n",
              " 'was',\n",
              " 'the',\n",
              " 'largest',\n",
              " 'in',\n",
              " 'the',\n",
              " 'world',\n",
              " 'for',\n",
              " 'most',\n",
              " 'of',\n",
              " 'recorded',\n",
              " 'history',\n",
              " 'up',\n",
              " 'until',\n",
              " 'the',\n",
              " 'onset',\n",
              " 'of',\n",
              " 'colonialism',\n",
              " 'in',\n",
              " 'early',\n",
              " '19th',\n",
              " 'century.[56][57][58',\n",
              " ']',\n",
              " 'India',\n",
              " 'accounts',\n",
              " 'for',\n",
              " '7.2',\n",
              " '%',\n",
              " 'of',\n",
              " 'the',\n",
              " 'global',\n",
              " 'economy',\n",
              " 'in',\n",
              " '2022',\n",
              " 'in',\n",
              " 'PPP',\n",
              " 'terms',\n",
              " ',',\n",
              " 'and',\n",
              " 'around',\n",
              " '3.4',\n",
              " '%',\n",
              " 'in',\n",
              " 'nominal',\n",
              " 'terms',\n",
              " 'in',\n",
              " '2022.[59][60',\n",
              " ']']"
            ]
          },
          "metadata": {},
          "execution_count": 20
        }
      ]
    },
    {
      "cell_type": "code",
      "source": [
        "sent=\"It is the world's fifth-largest economy by nominal GDP and the third-largest by purchasing power parity (PPP)\""
      ],
      "metadata": {
        "id": "X5cmUyFD-M1L"
      },
      "execution_count": null,
      "outputs": []
    },
    {
      "cell_type": "code",
      "source": [
        "sent"
      ],
      "metadata": {
        "colab": {
          "base_uri": "https://localhost:8080/",
          "height": 35
        },
        "id": "T43cYcfA-PX9",
        "outputId": "db6107a5-e78c-4c8d-e724-fe5bdca83088"
      },
      "execution_count": null,
      "outputs": [
        {
          "output_type": "execute_result",
          "data": {
            "text/plain": [
              "\"It is the world's fifth-largest economy by nominal GDP and the third-largest by purchasing power parity (PPP)\""
            ],
            "application/vnd.google.colaboratory.intrinsic+json": {
              "type": "string"
            }
          },
          "metadata": {},
          "execution_count": 22
        }
      ]
    },
    {
      "cell_type": "code",
      "source": [
        "word=nltk.word_tokenize(sent)"
      ],
      "metadata": {
        "id": "iTSxDmIt-TOq"
      },
      "execution_count": null,
      "outputs": []
    },
    {
      "cell_type": "code",
      "source": [
        "word"
      ],
      "metadata": {
        "colab": {
          "base_uri": "https://localhost:8080/"
        },
        "id": "0iE16Jyx-ljK",
        "outputId": "cb4361ef-d987-4187-bbe6-e67441ad0bf1"
      },
      "execution_count": null,
      "outputs": [
        {
          "output_type": "execute_result",
          "data": {
            "text/plain": [
              "['It',\n",
              " 'is',\n",
              " 'the',\n",
              " 'world',\n",
              " \"'s\",\n",
              " 'fifth-largest',\n",
              " 'economy',\n",
              " 'by',\n",
              " 'nominal',\n",
              " 'GDP',\n",
              " 'and',\n",
              " 'the',\n",
              " 'third-largest',\n",
              " 'by',\n",
              " 'purchasing',\n",
              " 'power',\n",
              " 'parity',\n",
              " '(',\n",
              " 'PPP',\n",
              " ')']"
            ]
          },
          "metadata": {},
          "execution_count": 25
        }
      ]
    },
    {
      "cell_type": "code",
      "source": [
        "len(word)"
      ],
      "metadata": {
        "colab": {
          "base_uri": "https://localhost:8080/"
        },
        "id": "BBihCK_m-d69",
        "outputId": "a4a77868-8d74-4b1c-f560-7e8ebc271252"
      },
      "execution_count": null,
      "outputs": [
        {
          "output_type": "execute_result",
          "data": {
            "text/plain": [
              "20"
            ]
          },
          "metadata": {},
          "execution_count": 24
        }
      ]
    },
    {
      "cell_type": "code",
      "source": [
        "# import stopwords library from nltk\n",
        "nltk.download('stopwords')\n",
        "from nltk.corpus import stopwords"
      ],
      "metadata": {
        "colab": {
          "base_uri": "https://localhost:8080/"
        },
        "id": "04GNW2nt-q8A",
        "outputId": "db10efae-64c1-455b-dd95-3a5825db4354"
      },
      "execution_count": null,
      "outputs": [
        {
          "output_type": "stream",
          "name": "stderr",
          "text": [
            "[nltk_data] Downloading package stopwords to /root/nltk_data...\n",
            "[nltk_data]   Unzipping corpora/stopwords.zip.\n"
          ]
        }
      ]
    },
    {
      "cell_type": "code",
      "source": [
        "stop_words=set(stopwords.words('english')) # to avoid the dulicates and standard practice we use set"
      ],
      "metadata": {
        "id": "9J3sJ8ZH-8ED"
      },
      "execution_count": null,
      "outputs": []
    },
    {
      "cell_type": "code",
      "source": [
        "filtered_words=[words for words in word if words.lower()  not in stop_words]"
      ],
      "metadata": {
        "id": "TEUB6Uqp_cx0"
      },
      "execution_count": null,
      "outputs": []
    },
    {
      "cell_type": "code",
      "source": [
        "filtered_words"
      ],
      "metadata": {
        "colab": {
          "base_uri": "https://localhost:8080/"
        },
        "id": "asYR1-4C_Vbi",
        "outputId": "ff5abb04-a3eb-4f4e-dd0f-2690b260d077"
      },
      "execution_count": null,
      "outputs": [
        {
          "output_type": "execute_result",
          "data": {
            "text/plain": [
              "['world',\n",
              " \"'s\",\n",
              " 'fifth-largest',\n",
              " 'economy',\n",
              " 'nominal',\n",
              " 'GDP',\n",
              " 'third-largest',\n",
              " 'purchasing',\n",
              " 'power',\n",
              " 'parity',\n",
              " '(',\n",
              " 'PPP',\n",
              " ')']"
            ]
          },
          "metadata": {},
          "execution_count": 37
        }
      ]
    },
    {
      "cell_type": "code",
      "source": [
        "word"
      ],
      "metadata": {
        "colab": {
          "base_uri": "https://localhost:8080/"
        },
        "id": "4StwFQWW_65v",
        "outputId": "08f443bb-cc75-4858-b6cd-8bfb1afdcb14"
      },
      "execution_count": null,
      "outputs": [
        {
          "output_type": "execute_result",
          "data": {
            "text/plain": [
              "['It',\n",
              " 'is',\n",
              " 'the',\n",
              " 'world',\n",
              " \"'s\",\n",
              " 'fifth-largest',\n",
              " 'economy',\n",
              " 'by',\n",
              " 'nominal',\n",
              " 'GDP',\n",
              " 'and',\n",
              " 'the',\n",
              " 'third-largest',\n",
              " 'by',\n",
              " 'purchasing',\n",
              " 'power',\n",
              " 'parity',\n",
              " '(',\n",
              " 'PPP',\n",
              " ')']"
            ]
          },
          "metadata": {},
          "execution_count": 38
        }
      ]
    },
    {
      "cell_type": "code",
      "source": [
        "sent=\"It is the world's fifth-largest economy by nominal GDP and the third-largest by purchasing power parity (PPP)\""
      ],
      "metadata": {
        "id": "043p4j6MAV_L"
      },
      "execution_count": null,
      "outputs": []
    },
    {
      "cell_type": "code",
      "source": [
        "import re # regular expression library\n"
      ],
      "metadata": {
        "id": "x9yNp9SnAXWa"
      },
      "execution_count": null,
      "outputs": []
    },
    {
      "cell_type": "code",
      "source": [
        "abc=nltk.sent_tokenize(para)"
      ],
      "metadata": {
        "id": "NClHnpgyB4q5"
      },
      "execution_count": null,
      "outputs": []
    },
    {
      "cell_type": "code",
      "source": [
        "abc"
      ],
      "metadata": {
        "colab": {
          "base_uri": "https://localhost:8080/"
        },
        "id": "AbniJfROB7qe",
        "outputId": "524f5bee-b8c3-4a92-fba7-e5d39705b528"
      },
      "execution_count": null,
      "outputs": [
        {
          "output_type": "execute_result",
          "data": {
            "text/plain": [
              "['The economy of India has transitioned from a mixed planned economy to a mixed middle-income developing social market economy and largest South Asian economy with notable public sector in strategic sectors.',\n",
              " \"[50] It is the world's fifth-largest economy by nominal GDP and the third-largest by purchasing power parity (PPP).\",\n",
              " 'According to the International Monetary Fund (IMF), on a per capita income basis, India ranked 139th by GDP (nominal) and 127th by GDP (PPP).',\n",
              " '[51] From independence in 1947 until 1991, successive governments followed Soviet model and promoted protectionist economic policies, with extensive Sovietization, state intervention, bureaucrat driven enterprises and economic regulation.',\n",
              " 'This is characterised as dirigism, in the form of the Licence Raj.',\n",
              " '[52][53] The end of the Cold War and an acute balance of payments crisis in 1991 led to the adoption of a broad economic liberalisation in India and indicative planning.',\n",
              " '[54][55] Since the start of the 21st century, annual average GDP growth has been 6% to 7%.',\n",
              " '[50] The economy of the Indian subcontinent was the largest in the world for most of recorded history up until the onset of colonialism in early 19th century.',\n",
              " '[56][57][58] India accounts for 7.2% of the global economy in 2022 in PPP terms, and around 3.4% in nominal terms in 2022.',\n",
              " '[59][60]']"
            ]
          },
          "metadata": {},
          "execution_count": 54
        }
      ]
    },
    {
      "cell_type": "code",
      "source": [
        "corpus=[]\n",
        "for i in range(len(abc)):\n",
        "  print(i)\n",
        "  review=re.sub('[^a-zA-Z]',\" \",abc[i].lower())\n",
        "  print(review)\n",
        "  corpus.append(review)"
      ],
      "metadata": {
        "colab": {
          "base_uri": "https://localhost:8080/"
        },
        "id": "tCpvG8nYAbOp",
        "outputId": "4d974e14-aa26-4942-c507-ceeb61456000"
      },
      "execution_count": null,
      "outputs": [
        {
          "output_type": "stream",
          "name": "stdout",
          "text": [
            "0\n",
            "the economy of india has transitioned from a mixed planned economy to a mixed middle income developing social market economy and largest south asian economy with notable public sector in strategic sectors \n",
            "1\n",
            "     it is the world s fifth largest economy by nominal gdp and the third largest by purchasing power parity  ppp  \n",
            "2\n",
            "according to the international monetary fund  imf   on a per capita income basis  india ranked    th by gdp  nominal  and    th by gdp  ppp  \n",
            "3\n",
            "     from independence in      until       successive governments followed soviet model and promoted protectionist economic policies  with extensive sovietization  state intervention  bureaucrat driven enterprises and economic regulation \n",
            "4\n",
            "this is characterised as dirigism  in the form of the licence raj \n",
            "5\n",
            "         the end of the cold war and an acute balance of payments crisis in      led to the adoption of a broad economic liberalisation in india and indicative planning \n",
            "6\n",
            "         since the start of the   st century  annual average gdp growth has been    to    \n",
            "7\n",
            "     the economy of the indian subcontinent was the largest in the world for most of recorded history up until the onset of colonialism in early   th century \n",
            "8\n",
            "             india accounts for      of the global economy in      in ppp terms  and around      in nominal terms in      \n",
            "9\n",
            "        \n"
          ]
        }
      ]
    },
    {
      "cell_type": "code",
      "source": [
        "abc=corpus[1].strip()"
      ],
      "metadata": {
        "id": "OihGSDhxCf6l"
      },
      "execution_count": null,
      "outputs": []
    },
    {
      "cell_type": "code",
      "source": [
        "abc"
      ],
      "metadata": {
        "colab": {
          "base_uri": "https://localhost:8080/",
          "height": 35
        },
        "id": "QL8fAzQhBAgg",
        "outputId": "0b3955b0-aff2-4054-e0b9-de8e707adb4c"
      },
      "execution_count": null,
      "outputs": [
        {
          "output_type": "execute_result",
          "data": {
            "text/plain": [
              "'it is the world s fifth largest economy by nominal gdp and the third largest by purchasing power parity  ppp'"
            ],
            "application/vnd.google.colaboratory.intrinsic+json": {
              "type": "string"
            }
          },
          "metadata": {},
          "execution_count": 68
        }
      ]
    },
    {
      "cell_type": "code",
      "source": [
        "from nltk.corpus import stopwords\n",
        "tokens=word_tokenize(abc)\n",
        "stop_words=set(stopwords.words('english'))"
      ],
      "metadata": {
        "id": "N4IzEwhRFiWR"
      },
      "execution_count": null,
      "outputs": []
    },
    {
      "cell_type": "code",
      "source": [
        "filtered_sent=[token for token in tokens if token.lower() not in stop_words]"
      ],
      "metadata": {
        "id": "a9m0I021F32J"
      },
      "execution_count": null,
      "outputs": []
    },
    {
      "cell_type": "code",
      "source": [
        "filtered_sent"
      ],
      "metadata": {
        "colab": {
          "base_uri": "https://localhost:8080/"
        },
        "id": "FiBfO1uNGNDM",
        "outputId": "857cf6a7-7e36-4516-b53d-b2d6b6a581c8"
      },
      "execution_count": null,
      "outputs": [
        {
          "output_type": "execute_result",
          "data": {
            "text/plain": [
              "['world',\n",
              " 'fifth',\n",
              " 'largest',\n",
              " 'economy',\n",
              " 'nominal',\n",
              " 'gdp',\n",
              " 'third',\n",
              " 'largest',\n",
              " 'purchasing',\n",
              " 'power',\n",
              " 'parity',\n",
              " 'ppp']"
            ]
          },
          "metadata": {},
          "execution_count": 71
        }
      ]
    },
    {
      "cell_type": "code",
      "source": [
        "# to do stemming we have to import porter stemmer library\n",
        "from nltk.stem import PorterStemmer\n",
        "stemmer=PorterStemmer()\n"
      ],
      "metadata": {
        "id": "71GO8TSWGUBI"
      },
      "execution_count": null,
      "outputs": []
    },
    {
      "cell_type": "code",
      "source": [
        "word=\"knowledge\"\n",
        "stemmer.stem(word)"
      ],
      "metadata": {
        "colab": {
          "base_uri": "https://localhost:8080/",
          "height": 35
        },
        "id": "7uGRCdMaGl6z",
        "outputId": "4646e7a6-5823-41e5-eb4f-914b70de652f"
      },
      "execution_count": null,
      "outputs": [
        {
          "output_type": "execute_result",
          "data": {
            "text/plain": [
              "'knowledg'"
            ],
            "application/vnd.google.colaboratory.intrinsic+json": {
              "type": "string"
            }
          },
          "metadata": {},
          "execution_count": 84
        }
      ]
    },
    {
      "cell_type": "code",
      "source": [
        "from nltk.stem import SnowballStemmer\n",
        "stemmer=SnowballStemmer('english')"
      ],
      "metadata": {
        "id": "hzrhIJHZHDKb"
      },
      "execution_count": null,
      "outputs": []
    },
    {
      "cell_type": "code",
      "source": [
        "word=\"knowledge\"\n",
        "stemmer.stem(word)"
      ],
      "metadata": {
        "colab": {
          "base_uri": "https://localhost:8080/",
          "height": 35
        },
        "id": "IxLFJrCiHJnx",
        "outputId": "408e313a-3b57-4c55-8511-b6cf59ea3abe"
      },
      "execution_count": null,
      "outputs": [
        {
          "output_type": "execute_result",
          "data": {
            "text/plain": [
              "'knowledg'"
            ],
            "application/vnd.google.colaboratory.intrinsic+json": {
              "type": "string"
            }
          },
          "metadata": {},
          "execution_count": 87
        }
      ]
    },
    {
      "cell_type": "code",
      "source": [
        "from nltk.stem import LancasterStemmer\n",
        "stemmer=LancasterStemmer()"
      ],
      "metadata": {
        "id": "GP-xN9wgHUxM"
      },
      "execution_count": null,
      "outputs": []
    },
    {
      "cell_type": "code",
      "source": [
        "word=\"knowledge\"\n",
        "stemmer.stem(word)"
      ],
      "metadata": {
        "colab": {
          "base_uri": "https://localhost:8080/",
          "height": 35
        },
        "id": "IVI6eyBEHbxi",
        "outputId": "3ef5abed-b69f-4d83-c9c6-f2b3c6241c79"
      },
      "execution_count": null,
      "outputs": [
        {
          "output_type": "execute_result",
          "data": {
            "text/plain": [
              "'knowledg'"
            ],
            "application/vnd.google.colaboratory.intrinsic+json": {
              "type": "string"
            }
          },
          "metadata": {},
          "execution_count": 89
        }
      ]
    },
    {
      "cell_type": "code",
      "source": [],
      "metadata": {
        "colab": {
          "base_uri": "https://localhost:8080/"
        },
        "id": "ERhIPGUyHh-P",
        "outputId": "82c63db2-cc1c-49e4-b8b0-8d0d0a4c1c4b"
      },
      "execution_count": null,
      "outputs": [
        {
          "output_type": "execute_result",
          "data": {
            "text/plain": [
              "['the economy of india has transitioned from a mixed planned economy to a mixed middle income developing social market economy and largest south asian economy with notable public sector in strategic sectors ',\n",
              " '     it is the world s fifth largest economy by nominal gdp and the third largest by purchasing power parity  ppp  ',\n",
              " 'according to the international monetary fund  imf   on a per capita income basis  india ranked    th by gdp  nominal  and    th by gdp  ppp  ',\n",
              " '     from independence in      until       successive governments followed soviet model and promoted protectionist economic policies  with extensive sovietization  state intervention  bureaucrat driven enterprises and economic regulation ',\n",
              " 'this is characterised as dirigism  in the form of the licence raj ',\n",
              " '         the end of the cold war and an acute balance of payments crisis in      led to the adoption of a broad economic liberalisation in india and indicative planning ',\n",
              " '         since the start of the   st century  annual average gdp growth has been    to    ',\n",
              " '     the economy of the indian subcontinent was the largest in the world for most of recorded history up until the onset of colonialism in early   th century ',\n",
              " '             india accounts for      of the global economy in      in ppp terms  and around      in nominal terms in      ',\n",
              " '        ']"
            ]
          },
          "metadata": {},
          "execution_count": 90
        }
      ]
    },
    {
      "cell_type": "code",
      "source": [
        "for i in corpus:\n",
        "  words=word_tokenize(i)\n",
        "  #print(words)\n",
        "  for word in words:\n",
        "    if word not in stop_words:\n",
        "      print(word,\"-->\",stemmer.stem(word))"
      ],
      "metadata": {
        "colab": {
          "base_uri": "https://localhost:8080/"
        },
        "id": "rEDNlxRiHnXq",
        "outputId": "a8c8f854-7725-416d-93b2-d62ed23d2531"
      },
      "execution_count": null,
      "outputs": [
        {
          "output_type": "stream",
          "name": "stdout",
          "text": [
            "economy --> econom\n",
            "india --> ind\n",
            "transitioned --> transit\n",
            "mixed --> mix\n",
            "planned --> plan\n",
            "economy --> econom\n",
            "mixed --> mix\n",
            "middle --> middl\n",
            "income --> incom\n",
            "developing --> develop\n",
            "social --> soc\n",
            "market --> market\n",
            "economy --> econom\n",
            "largest --> largest\n",
            "south --> sou\n",
            "asian --> as\n",
            "economy --> econom\n",
            "notable --> not\n",
            "public --> publ\n",
            "sector --> sect\n",
            "strategic --> strategic\n",
            "sectors --> sect\n",
            "world --> world\n",
            "fifth --> fif\n",
            "largest --> largest\n",
            "economy --> econom\n",
            "nominal --> nomin\n",
            "gdp --> gdp\n",
            "third --> third\n",
            "largest --> largest\n",
            "purchasing --> purchas\n",
            "power --> pow\n",
            "parity --> par\n",
            "ppp --> ppp\n",
            "according --> accord\n",
            "international --> intern\n",
            "monetary --> monet\n",
            "fund --> fund\n",
            "imf --> imf\n",
            "per --> per\n",
            "capita --> capit\n",
            "income --> incom\n",
            "basis --> bas\n",
            "india --> ind\n",
            "ranked --> rank\n",
            "th --> th\n",
            "gdp --> gdp\n",
            "nominal --> nomin\n",
            "th --> th\n",
            "gdp --> gdp\n",
            "ppp --> ppp\n",
            "independence --> independ\n",
            "successive --> success\n",
            "governments --> govern\n",
            "followed --> follow\n",
            "soviet --> soviet\n",
            "model --> model\n",
            "promoted --> promot\n",
            "protectionist --> protect\n",
            "economic --> econom\n",
            "policies --> policy\n",
            "extensive --> extend\n",
            "sovietization --> soviet\n",
            "state --> stat\n",
            "intervention --> interv\n",
            "bureaucrat --> bureaucr\n",
            "driven --> driv\n",
            "enterprises --> enterpr\n",
            "economic --> econom\n",
            "regulation --> reg\n",
            "characterised --> charact\n",
            "dirigism --> dirig\n",
            "form --> form\n",
            "licence --> lic\n",
            "raj --> raj\n",
            "end --> end\n",
            "cold --> cold\n",
            "war --> war\n",
            "acute --> acut\n",
            "balance --> bal\n",
            "payments --> pay\n",
            "crisis --> cris\n",
            "led --> led\n",
            "adoption --> adopt\n",
            "broad --> broad\n",
            "economic --> econom\n",
            "liberalisation --> lib\n",
            "india --> ind\n",
            "indicative --> ind\n",
            "planning --> plan\n",
            "since --> sint\n",
            "start --> start\n",
            "st --> st\n",
            "century --> century\n",
            "annual --> an\n",
            "average --> av\n",
            "gdp --> gdp\n",
            "growth --> grow\n",
            "economy --> econom\n",
            "indian --> ind\n",
            "subcontinent --> subcontin\n",
            "largest --> largest\n",
            "world --> world\n",
            "recorded --> record\n",
            "history --> hist\n",
            "onset --> onset\n",
            "colonialism --> colon\n",
            "early --> ear\n",
            "th --> th\n",
            "century --> century\n",
            "india --> ind\n",
            "accounts --> account\n",
            "global --> glob\n",
            "economy --> econom\n",
            "ppp --> ppp\n",
            "terms --> term\n",
            "around --> around\n",
            "nominal --> nomin\n",
            "terms --> term\n"
          ]
        }
      ]
    },
    {
      "cell_type": "code",
      "source": [
        "# lemmatization\n",
        "from nltk.stem import WordNetLemmatizer\n",
        "nltk.download('wordnet')"
      ],
      "metadata": {
        "colab": {
          "base_uri": "https://localhost:8080/"
        },
        "id": "9C05ghdpITrI",
        "outputId": "b24d19d1-ea7b-4b6b-c735-d5c637059dea"
      },
      "execution_count": null,
      "outputs": [
        {
          "output_type": "stream",
          "name": "stderr",
          "text": [
            "[nltk_data] Downloading package wordnet to /root/nltk_data...\n"
          ]
        },
        {
          "output_type": "execute_result",
          "data": {
            "text/plain": [
              "True"
            ]
          },
          "metadata": {},
          "execution_count": 95
        }
      ]
    },
    {
      "cell_type": "code",
      "source": [
        "lemmatizer=WordNetLemmatizer()"
      ],
      "metadata": {
        "id": "7ZWuzM0yIljS"
      },
      "execution_count": null,
      "outputs": []
    },
    {
      "cell_type": "code",
      "source": [
        "for i in corpus:\n",
        "  words=word_tokenize(i)\n",
        "  #print(words)\n",
        "  for word in words:\n",
        "    if word not in stop_words:\n",
        "      print(word,\"-->\",stemmer.stem(word),\"  -->\",lemmatizer.lemmatize(word))"
      ],
      "metadata": {
        "colab": {
          "base_uri": "https://localhost:8080/"
        },
        "id": "HUHUN6xzIekM",
        "outputId": "4043ab12-5f81-4896-9d0a-dc22e8a07bb2"
      },
      "execution_count": null,
      "outputs": [
        {
          "output_type": "stream",
          "name": "stdout",
          "text": [
            "economy --> econom   --> economy\n",
            "india --> ind   --> india\n",
            "transitioned --> transit   --> transitioned\n",
            "mixed --> mix   --> mixed\n",
            "planned --> plan   --> planned\n",
            "economy --> econom   --> economy\n",
            "mixed --> mix   --> mixed\n",
            "middle --> middl   --> middle\n",
            "income --> incom   --> income\n",
            "developing --> develop   --> developing\n",
            "social --> soc   --> social\n",
            "market --> market   --> market\n",
            "economy --> econom   --> economy\n",
            "largest --> largest   --> largest\n",
            "south --> sou   --> south\n",
            "asian --> as   --> asian\n",
            "economy --> econom   --> economy\n",
            "notable --> not   --> notable\n",
            "public --> publ   --> public\n",
            "sector --> sect   --> sector\n",
            "strategic --> strategic   --> strategic\n",
            "sectors --> sect   --> sector\n",
            "world --> world   --> world\n",
            "fifth --> fif   --> fifth\n",
            "largest --> largest   --> largest\n",
            "economy --> econom   --> economy\n",
            "nominal --> nomin   --> nominal\n",
            "gdp --> gdp   --> gdp\n",
            "third --> third   --> third\n",
            "largest --> largest   --> largest\n",
            "purchasing --> purchas   --> purchasing\n",
            "power --> pow   --> power\n",
            "parity --> par   --> parity\n",
            "ppp --> ppp   --> ppp\n",
            "according --> accord   --> according\n",
            "international --> intern   --> international\n",
            "monetary --> monet   --> monetary\n",
            "fund --> fund   --> fund\n",
            "imf --> imf   --> imf\n",
            "per --> per   --> per\n",
            "capita --> capit   --> caput\n",
            "income --> incom   --> income\n",
            "basis --> bas   --> basis\n",
            "india --> ind   --> india\n",
            "ranked --> rank   --> ranked\n",
            "th --> th   --> th\n",
            "gdp --> gdp   --> gdp\n",
            "nominal --> nomin   --> nominal\n",
            "th --> th   --> th\n",
            "gdp --> gdp   --> gdp\n",
            "ppp --> ppp   --> ppp\n",
            "independence --> independ   --> independence\n",
            "successive --> success   --> successive\n",
            "governments --> govern   --> government\n",
            "followed --> follow   --> followed\n",
            "soviet --> soviet   --> soviet\n",
            "model --> model   --> model\n",
            "promoted --> promot   --> promoted\n",
            "protectionist --> protect   --> protectionist\n",
            "economic --> econom   --> economic\n",
            "policies --> policy   --> policy\n",
            "extensive --> extend   --> extensive\n",
            "sovietization --> soviet   --> sovietization\n",
            "state --> stat   --> state\n",
            "intervention --> interv   --> intervention\n",
            "bureaucrat --> bureaucr   --> bureaucrat\n",
            "driven --> driv   --> driven\n",
            "enterprises --> enterpr   --> enterprise\n",
            "economic --> econom   --> economic\n",
            "regulation --> reg   --> regulation\n",
            "characterised --> charact   --> characterised\n",
            "dirigism --> dirig   --> dirigism\n",
            "form --> form   --> form\n",
            "licence --> lic   --> licence\n",
            "raj --> raj   --> raj\n",
            "end --> end   --> end\n",
            "cold --> cold   --> cold\n",
            "war --> war   --> war\n",
            "acute --> acut   --> acute\n",
            "balance --> bal   --> balance\n",
            "payments --> pay   --> payment\n",
            "crisis --> cris   --> crisis\n",
            "led --> led   --> led\n",
            "adoption --> adopt   --> adoption\n",
            "broad --> broad   --> broad\n",
            "economic --> econom   --> economic\n",
            "liberalisation --> lib   --> liberalisation\n",
            "india --> ind   --> india\n",
            "indicative --> ind   --> indicative\n",
            "planning --> plan   --> planning\n",
            "since --> sint   --> since\n",
            "start --> start   --> start\n",
            "st --> st   --> st\n",
            "century --> century   --> century\n",
            "annual --> an   --> annual\n",
            "average --> av   --> average\n",
            "gdp --> gdp   --> gdp\n",
            "growth --> grow   --> growth\n",
            "economy --> econom   --> economy\n",
            "indian --> ind   --> indian\n",
            "subcontinent --> subcontin   --> subcontinent\n",
            "largest --> largest   --> largest\n",
            "world --> world   --> world\n",
            "recorded --> record   --> recorded\n",
            "history --> hist   --> history\n",
            "onset --> onset   --> onset\n",
            "colonialism --> colon   --> colonialism\n",
            "early --> ear   --> early\n",
            "th --> th   --> th\n",
            "century --> century   --> century\n",
            "india --> ind   --> india\n",
            "accounts --> account   --> account\n",
            "global --> glob   --> global\n",
            "economy --> econom   --> economy\n",
            "ppp --> ppp   --> ppp\n",
            "terms --> term   --> term\n",
            "around --> around   --> around\n",
            "nominal --> nomin   --> nominal\n",
            "terms --> term   --> term\n"
          ]
        }
      ]
    },
    {
      "cell_type": "code",
      "source": [
        "# bag of words\n"
      ],
      "metadata": {
        "id": "-3NuZYt7XCsk"
      },
      "execution_count": null,
      "outputs": []
    },
    {
      "cell_type": "code",
      "source": [
        "# importing the libraries\n",
        "import nltk"
      ],
      "metadata": {
        "id": "zPuaninIXFbc"
      },
      "execution_count": 1,
      "outputs": []
    },
    {
      "cell_type": "code",
      "source": [
        "paragraph =  \"\"\"I have three visions for India. In 3000 years of our history, people from all over\n",
        "               the world have come and invaded us, captured our lands, conquered our minds.\n",
        "               From Alexander onwards, the Greeks, the Turks, the Moguls, the Portuguese, the British,\n",
        "               the French, the Dutch, all of them came and looted us, took over what was ours.\n",
        "               Yet we have not done this to any other nation. We have not conquered anyone.\n",
        "               We have not grabbed their land, their culture,\n",
        "               their history and tried to enforce our way of life on them.\n",
        "               Why? Because we respect the freedom of others.That is why my\n",
        "               first vision is that of freedom. I believe that India got its first vision of\n",
        "               this in 1857, when we started the War of Independence. It is this freedom that\n",
        "               we must protect and nurture and build on. If we are not free, no one will respect us.\n",
        "               My second vision for India’s development. For fifty years we have been a developing nation.\n",
        "               It is time we see ourselves as a developed nation. We are among the top 5 nations of the world\n",
        "               in terms of GDP. We have a 10 percent growth rate in most areas. Our poverty levels are falling.\n",
        "               Our achievements are being globally recognised today. Yet we lack the self-confidence to\n",
        "               see ourselves as a developed nation, self-reliant and self-assured. Isn’t this incorrect?\n",
        "               I have a third vision. India must stand up to the world. Because I believe that unless India\n",
        "               stands up to the world, no one will respect us. Only strength respects strength. We must be\n",
        "               strong not only as a military power but also as an economic power. Both must go hand-in-hand.\n",
        "               My good fortune was to have worked with three great minds. Dr. Vikram Sarabhai of the Dept. of\n",
        "               space, Professor Satish Dhawan, who succeeded him and Dr. Brahm Prakash, father of nuclear material.\n",
        "               I was lucky to have worked with all three of them closely and consider this the great opportunity of my life.\n",
        "               I see four milestones in my career\"\"\"\n",
        "\n",
        ""
      ],
      "metadata": {
        "id": "TmUeJN8EXLUF"
      },
      "execution_count": 3,
      "outputs": []
    },
    {
      "cell_type": "code",
      "source": [
        "len(paragraph)"
      ],
      "metadata": {
        "colab": {
          "base_uri": "https://localhost:8080/"
        },
        "id": "-5kUDwIQXRzc",
        "outputId": "316a7b37-bdd0-48e6-b9db-98ecae249765"
      },
      "execution_count": 4,
      "outputs": [
        {
          "output_type": "execute_result",
          "data": {
            "text/plain": [
              "2241"
            ]
          },
          "metadata": {},
          "execution_count": 4
        }
      ]
    },
    {
      "cell_type": "code",
      "source": [
        "#cleaning the texts\n",
        "import re\n",
        "from nltk.corpus import stopwords\n",
        "from nltk.stem import PorterStemmer\n",
        "from nltk.stem import WordNetLemmatizer\n",
        "nltk.download('punkt')\n",
        "nltk.download('stopwords')"
      ],
      "metadata": {
        "colab": {
          "base_uri": "https://localhost:8080/"
        },
        "id": "ntBMhOqDXbCE",
        "outputId": "0ad49adc-a36a-47ec-8308-8564c575e068"
      },
      "execution_count": 16,
      "outputs": [
        {
          "output_type": "stream",
          "name": "stderr",
          "text": [
            "[nltk_data] Downloading package punkt to /root/nltk_data...\n",
            "[nltk_data]   Package punkt is already up-to-date!\n",
            "[nltk_data] Downloading package stopwords to /root/nltk_data...\n",
            "[nltk_data]   Unzipping corpora/stopwords.zip.\n"
          ]
        },
        {
          "output_type": "execute_result",
          "data": {
            "text/plain": [
              "True"
            ]
          },
          "metadata": {},
          "execution_count": 16
        }
      ]
    },
    {
      "cell_type": "code",
      "source": [
        "# to do stemming\n",
        "ps=PorterStemmer()"
      ],
      "metadata": {
        "id": "xv-SlmtjX7kL"
      },
      "execution_count": 9,
      "outputs": []
    },
    {
      "cell_type": "code",
      "source": [
        "# convert the paragraph into sentences\n",
        "sentences=nltk.sent_tokenize(paragraph)"
      ],
      "metadata": {
        "id": "gSZ3ES_eYEzx"
      },
      "execution_count": 10,
      "outputs": []
    },
    {
      "cell_type": "code",
      "source": [
        "sentences"
      ],
      "metadata": {
        "colab": {
          "base_uri": "https://localhost:8080/"
        },
        "id": "SgIpk6bHYeYb",
        "outputId": "028835ff-f934-4aa8-af3c-6ecf94e5dea7"
      },
      "execution_count": 11,
      "outputs": [
        {
          "output_type": "execute_result",
          "data": {
            "text/plain": [
              "['I have three visions for India.',\n",
              " 'In 3000 years of our history, people from all over \\n               the world have come and invaded us, captured our lands, conquered our minds.',\n",
              " 'From Alexander onwards, the Greeks, the Turks, the Moguls, the Portuguese, the British,\\n               the French, the Dutch, all of them came and looted us, took over what was ours.',\n",
              " 'Yet we have not done this to any other nation.',\n",
              " 'We have not conquered anyone.',\n",
              " 'We have not grabbed their land, their culture, \\n               their history and tried to enforce our way of life on them.',\n",
              " 'Why?',\n",
              " 'Because we respect the freedom of others.That is why my \\n               first vision is that of freedom.',\n",
              " 'I believe that India got its first vision of \\n               this in 1857, when we started the War of Independence.',\n",
              " 'It is this freedom that\\n               we must protect and nurture and build on.',\n",
              " 'If we are not free, no one will respect us.',\n",
              " 'My second vision for India’s development.',\n",
              " 'For fifty years we have been a developing nation.',\n",
              " 'It is time we see ourselves as a developed nation.',\n",
              " 'We are among the top 5 nations of the world\\n               in terms of GDP.',\n",
              " 'We have a 10 percent growth rate in most areas.',\n",
              " 'Our poverty levels are falling.',\n",
              " 'Our achievements are being globally recognised today.',\n",
              " 'Yet we lack the self-confidence to\\n               see ourselves as a developed nation, self-reliant and self-assured.',\n",
              " 'Isn’t this incorrect?',\n",
              " 'I have a third vision.',\n",
              " 'India must stand up to the world.',\n",
              " 'Because I believe that unless India \\n               stands up to the world, no one will respect us.',\n",
              " 'Only strength respects strength.',\n",
              " 'We must be \\n               strong not only as a military power but also as an economic power.',\n",
              " 'Both must go hand-in-hand.',\n",
              " 'My good fortune was to have worked with three great minds.',\n",
              " 'Dr. Vikram Sarabhai of the Dept.',\n",
              " 'of \\n               space, Professor Satish Dhawan, who succeeded him and Dr. Brahm Prakash, father of nuclear material.',\n",
              " 'I was lucky to have worked with all three of them closely and consider this the great opportunity of my life.',\n",
              " 'I see four milestones in my career']"
            ]
          },
          "metadata": {},
          "execution_count": 11
        }
      ]
    },
    {
      "cell_type": "code",
      "source": [
        "corpus=[]\n",
        "for i in range(len(sentences)):\n",
        "  #print(\" before Review\",sentences[i])\n",
        "  review=re.sub('[^a-zA-Z]',\" \",sentences[i]) # we are removing all unnecessary numbers and symbols\n",
        "  #print(\" after Review\",review)\n",
        "  review1=review.lower() # converting all words to small letters\n",
        "  review2=review1.split() # word tokenize happening\n",
        "  review3=[ps.stem(word) for word in review2 if not word in set(stopwords.words('english'))]\n",
        "  review4=\" \".join(review3)\n",
        "  corpus.append(review4)"
      ],
      "metadata": {
        "id": "fNRp_nWPYwsY"
      },
      "execution_count": 41,
      "outputs": []
    },
    {
      "cell_type": "code",
      "source": [
        "corpus"
      ],
      "metadata": {
        "colab": {
          "base_uri": "https://localhost:8080/"
        },
        "id": "JLGM5eWicBbp",
        "outputId": "14a25eb6-56ee-444e-d8d3-73b40effccd5"
      },
      "execution_count": 42,
      "outputs": [
        {
          "output_type": "execute_result",
          "data": {
            "text/plain": [
              "['three vision india',\n",
              " 'year histori peopl world come invad us captur land conquer mind',\n",
              " 'alexand onward greek turk mogul portugues british french dutch came loot us took',\n",
              " 'yet done nation',\n",
              " 'conquer anyon',\n",
              " 'grab land cultur histori tri enforc way life',\n",
              " '',\n",
              " 'respect freedom other first vision freedom',\n",
              " 'believ india got first vision start war independ',\n",
              " 'freedom must protect nurtur build',\n",
              " 'free one respect us',\n",
              " 'second vision india develop',\n",
              " 'fifti year develop nation',\n",
              " 'time see develop nation',\n",
              " 'among top nation world term gdp',\n",
              " 'percent growth rate area',\n",
              " 'poverti level fall',\n",
              " 'achiev global recognis today',\n",
              " 'yet lack self confid see develop nation self reliant self assur',\n",
              " 'incorrect',\n",
              " 'third vision',\n",
              " 'india must stand world',\n",
              " 'believ unless india stand world one respect us',\n",
              " 'strength respect strength',\n",
              " 'must strong militari power also econom power',\n",
              " 'must go hand hand',\n",
              " 'good fortun work three great mind',\n",
              " 'dr vikram sarabhai dept',\n",
              " 'space professor satish dhawan succeed dr brahm prakash father nuclear materi',\n",
              " 'lucki work three close consid great opportun life',\n",
              " 'see four mileston career']"
            ]
          },
          "metadata": {},
          "execution_count": 42
        }
      ]
    },
    {
      "cell_type": "code",
      "source": [
        "# to create the bag of words\n",
        "from sklearn.feature_extraction.text import CountVectorizer"
      ],
      "metadata": {
        "id": "nO0HA3IzcLmK"
      },
      "execution_count": 24,
      "outputs": []
    },
    {
      "cell_type": "code",
      "source": [
        "cv=CountVectorizer(max_features=1500)"
      ],
      "metadata": {
        "id": "iAVfua08gDvN"
      },
      "execution_count": 36,
      "outputs": []
    },
    {
      "cell_type": "code",
      "source": [
        "X=cv.fit_transform(corpus).toarray()"
      ],
      "metadata": {
        "id": "6u3o5ALDgDx8"
      },
      "execution_count": 48,
      "outputs": []
    },
    {
      "cell_type": "code",
      "source": [
        "cv.get_feature_names_out()"
      ],
      "metadata": {
        "colab": {
          "base_uri": "https://localhost:8080/"
        },
        "id": "dj_kkIO_gD0V",
        "outputId": "1365c9e0-eef9-46ff-8e00-abeba5b4be61"
      },
      "execution_count": 49,
      "outputs": [
        {
          "output_type": "execute_result",
          "data": {
            "text/plain": [
              "array(['achiev', 'alexand', 'also', 'among', 'anyon', 'area', 'assur',\n",
              "       'believ', 'brahm', 'british', 'build', 'came', 'captur', 'career',\n",
              "       'close', 'come', 'confid', 'conquer', 'consid', 'cultur', 'dept',\n",
              "       'develop', 'dhawan', 'done', 'dr', 'dutch', 'econom', 'enforc',\n",
              "       'fall', 'father', 'fifti', 'first', 'fortun', 'four', 'free',\n",
              "       'freedom', 'french', 'gdp', 'global', 'go', 'good', 'got', 'grab',\n",
              "       'great', 'greek', 'growth', 'hand', 'histori', 'incorrect',\n",
              "       'independ', 'india', 'invad', 'lack', 'land', 'level', 'life',\n",
              "       'loot', 'lucki', 'materi', 'mileston', 'militari', 'mind', 'mogul',\n",
              "       'must', 'nation', 'nuclear', 'nurtur', 'one', 'onward', 'opportun',\n",
              "       'other', 'peopl', 'percent', 'portugues', 'poverti', 'power',\n",
              "       'prakash', 'professor', 'protect', 'rate', 'recognis', 'reliant',\n",
              "       'respect', 'sarabhai', 'satish', 'second', 'see', 'self', 'space',\n",
              "       'stand', 'start', 'strength', 'strong', 'succeed', 'term', 'third',\n",
              "       'three', 'time', 'today', 'took', 'top', 'tri', 'turk', 'unless',\n",
              "       'us', 'vikram', 'vision', 'war', 'way', 'work', 'world', 'year',\n",
              "       'yet'], dtype=object)"
            ]
          },
          "metadata": {},
          "execution_count": 49
        }
      ]
    },
    {
      "cell_type": "code",
      "source": [
        "print(X)"
      ],
      "metadata": {
        "colab": {
          "base_uri": "https://localhost:8080/"
        },
        "id": "GXWu0gCTg56f",
        "outputId": "204ab6a7-d010-48aa-bf92-2b4e3a237f9d"
      },
      "execution_count": 51,
      "outputs": [
        {
          "output_type": "stream",
          "name": "stdout",
          "text": [
            "[[0 0 0 ... 0 0 0]\n",
            " [0 0 0 ... 1 1 0]\n",
            " [0 1 0 ... 0 0 0]\n",
            " ...\n",
            " [0 0 0 ... 0 0 0]\n",
            " [0 0 0 ... 0 0 0]\n",
            " [0 0 0 ... 0 0 0]]\n"
          ]
        }
      ]
    },
    {
      "cell_type": "code",
      "source": [
        "#example\n",
        ">>> corpus = [\n",
        "...     'This is the first document.',\n",
        "...     'This document is the second document.',\n",
        "...     'And this is the third one.',\n",
        "...     'Is this the first document?'\n",
        "... ]"
      ],
      "metadata": {
        "id": "KnnitIUJc42x"
      },
      "execution_count": 67,
      "outputs": []
    },
    {
      "cell_type": "code",
      "source": [
        "vectorizer = CountVectorizer(binary=True)"
      ],
      "metadata": {
        "id": "4rnUcoJ_c-uB"
      },
      "execution_count": 68,
      "outputs": []
    },
    {
      "cell_type": "code",
      "source": [
        "X = vectorizer.fit_transform(corpus)"
      ],
      "metadata": {
        "id": "5ebWx6t-dCOH"
      },
      "execution_count": 69,
      "outputs": []
    },
    {
      "cell_type": "code",
      "source": [
        "vectorizer.get_feature_names_out()"
      ],
      "metadata": {
        "colab": {
          "base_uri": "https://localhost:8080/"
        },
        "id": "6jDr7MY2dE9D",
        "outputId": "d41cd420-1215-4112-9c84-f1976619a03a"
      },
      "execution_count": 70,
      "outputs": [
        {
          "output_type": "execute_result",
          "data": {
            "text/plain": [
              "array(['and', 'document', 'first', 'is', 'one', 'second', 'the', 'third',\n",
              "       'this'], dtype=object)"
            ]
          },
          "metadata": {},
          "execution_count": 70
        }
      ]
    },
    {
      "cell_type": "code",
      "source": [
        "print(X.toarray())"
      ],
      "metadata": {
        "colab": {
          "base_uri": "https://localhost:8080/"
        },
        "id": "_mYyTtCwdiyI",
        "outputId": "5a718ec8-1eb9-4607-ff58-854451b20c27"
      },
      "execution_count": 71,
      "outputs": [
        {
          "output_type": "stream",
          "name": "stdout",
          "text": [
            "[[0 1 1 1 0 0 1 0 1]\n",
            " [0 1 0 1 0 1 1 0 1]\n",
            " [1 0 0 1 1 0 1 1 1]\n",
            " [0 1 1 1 0 0 1 0 1]]\n"
          ]
        }
      ]
    },
    {
      "cell_type": "code",
      "source": [
        "vectorizer2 = CountVectorizer(ngram_range=(1, 3))\n",
        "X2 = vectorizer2.fit_transform(corpus)\n",
        "vectorizer2.get_feature_names_out()"
      ],
      "metadata": {
        "colab": {
          "base_uri": "https://localhost:8080/"
        },
        "id": "lg17x6VGhXZI",
        "outputId": "9db81f42-c5bf-48ba-fc2b-18387343baa6"
      },
      "execution_count": 60,
      "outputs": [
        {
          "output_type": "execute_result",
          "data": {
            "text/plain": [
              "array(['document', 'first', 'first document', 'is', 'is the',\n",
              "       'is the first', 'the', 'the first', 'the first document', 'this',\n",
              "       'this is', 'this is the'], dtype=object)"
            ]
          },
          "metadata": {},
          "execution_count": 60
        }
      ]
    },
    {
      "cell_type": "code",
      "source": [
        "from sklearn.feature_extraction.text import TfidfVectorizer"
      ],
      "metadata": {
        "id": "pq2loqPQnI4R"
      },
      "execution_count": 72,
      "outputs": []
    },
    {
      "cell_type": "code",
      "source": [
        "vectorizer = TfidfVectorizer()\n",
        "X = vectorizer.fit_transform(corpus)\n",
        "vectorizer.get_feature_names_out()"
      ],
      "metadata": {
        "colab": {
          "base_uri": "https://localhost:8080/"
        },
        "id": "e_ex3KgbnNhy",
        "outputId": "2a6db647-fd18-42f5-e13a-e948c87b9040"
      },
      "execution_count": 73,
      "outputs": [
        {
          "output_type": "execute_result",
          "data": {
            "text/plain": [
              "array(['and', 'document', 'first', 'is', 'one', 'second', 'the', 'third',\n",
              "       'this'], dtype=object)"
            ]
          },
          "metadata": {},
          "execution_count": 73
        }
      ]
    },
    {
      "cell_type": "code",
      "source": [
        "print(X.shape)"
      ],
      "metadata": {
        "colab": {
          "base_uri": "https://localhost:8080/"
        },
        "id": "7bCVL9VanNkV",
        "outputId": "e7adaf19-fe1c-4aad-aa3b-11d6ad4cb919"
      },
      "execution_count": 74,
      "outputs": [
        {
          "output_type": "stream",
          "name": "stdout",
          "text": [
            "(4, 9)\n"
          ]
        }
      ]
    }
  ]
}